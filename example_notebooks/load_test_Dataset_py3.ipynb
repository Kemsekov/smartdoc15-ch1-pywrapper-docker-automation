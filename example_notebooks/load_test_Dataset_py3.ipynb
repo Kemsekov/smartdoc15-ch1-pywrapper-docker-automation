{
 "cells": [
  {
   "cell_type": "markdown",
   "metadata": {},
   "source": [
    "# Plain examples and tests for the Dataset and the Frame classes\n",
    "If you are looking for a quick example on how to use the `smartdoc15_ch1` package, we recommend you start by looking at the tutorials instead."
   ]
  },
  {
   "cell_type": "markdown",
   "metadata": {},
   "source": [
    "## Import"
   ]
  },
  {
   "cell_type": "code",
   "execution_count": 1,
   "metadata": {},
   "outputs": [],
   "source": [
    "from smartdoc15_ch1 import Dataset"
   ]
  },
  {
   "cell_type": "markdown",
   "metadata": {},
   "source": [
    "## Dataset loading\n",
    "We use a reduced version of the dataset for testing purpose here. It contains only a fraction of the data."
   ]
  },
  {
   "cell_type": "markdown",
   "metadata": {},
   "source": [
    "The dataset is made accessible by creating an instance of the `Dataset` class."
   ]
  },
  {
   "cell_type": "code",
   "execution_count": 2,
   "metadata": {},
   "outputs": [],
   "source": [
    "d = Dataset(data_home=\"/data/competitions/2015-ICDAR-smartdoc/challenge1/99-computable-version-2017-test\",\n",
    "           download_if_missing=False)"
   ]
  },
  {
   "cell_type": "markdown",
   "metadata": {},
   "source": [
    "See `Dataset` documentation for a description of the arguments of the constructor."
   ]
  },
  {
   "cell_type": "markdown",
   "metadata": {},
   "source": [
    "## Dataset format"
   ]
  },
  {
   "cell_type": "markdown",
   "metadata": {},
   "source": [
    "The resulting instance is a modified `list` which makes it easy to access and iterate over elements."
   ]
  },
  {
   "cell_type": "code",
   "execution_count": 3,
   "metadata": {},
   "outputs": [
    {
     "data": {
      "text/plain": [
       "{'_scale_factor': None,\n",
       " 'bg_id': 0,\n",
       " 'bg_name': 'background01',\n",
       " 'bl_x': 844.579,\n",
       " 'bl_y': 851.507,\n",
       " 'br_x': 1337.49,\n",
       " 'br_y': 750.1089999999999,\n",
       " 'frame_index': 181,\n",
       " 'image_path': 'background01/datasheet004/frame_0181.jpeg',\n",
       " 'image_path_absolute': '/data/competitions/2015-ICDAR-smartdoc/challenge1/99-computable-version-2017-test/smartdoc15-ch1_home/frames/background01/datasheet004/frame_0181.jpeg',\n",
       " 'model_height': 2970.0,\n",
       " 'model_id': 3,\n",
       " 'model_name': 'datasheet004',\n",
       " 'model_subid': 3,\n",
       " 'model_width': 2100.0,\n",
       " 'modeltype_id': 0,\n",
       " 'modeltype_name': 'datasheet',\n",
       " 'tl_x': 713.449,\n",
       " 'tl_y': 234.484,\n",
       " 'tr_x': 1141.9,\n",
       " 'tr_y': 180.408}"
      ]
     },
     "execution_count": 3,
     "metadata": {},
     "output_type": "execute_result"
    }
   ],
   "source": [
    "d[0]"
   ]
  },
  {
   "cell_type": "markdown",
   "metadata": {},
   "source": [
    "Index-based access is available, as well as iteration."
   ]
  },
  {
   "cell_type": "code",
   "execution_count": 4,
   "metadata": {},
   "outputs": [
    {
     "data": {
      "text/plain": [
       "50"
      ]
     },
     "execution_count": 4,
     "metadata": {},
     "output_type": "execute_result"
    }
   ],
   "source": [
    "len(d)"
   ]
  },
  {
   "cell_type": "markdown",
   "metadata": {},
   "source": [
    "*(As said previously, we use a reduced version of the dataset here.)*"
   ]
  },
  {
   "cell_type": "code",
   "execution_count": 5,
   "metadata": {},
   "outputs": [
    {
     "name": "stdout",
     "output_type": "stream",
     "text": [
      "background01/datasheet004/frame_0181.jpeg\n",
      "background02/tax003/frame_0128.jpeg\n",
      "background03/patent002/frame_0163.jpeg\n",
      "background04/letter001/frame_0116.jpeg\n",
      "background02/magazine001/frame_0045.jpeg\n",
      "background05/patent001/frame_0062.jpeg\n",
      "background04/patent005/frame_0048.jpeg\n",
      "background02/patent002/frame_0106.jpeg\n",
      "background03/tax002/frame_0158.jpeg\n",
      "background02/datasheet003/frame_0129.jpeg\n"
     ]
    }
   ],
   "source": [
    "for frame in d[:10]:\n",
    "    print(frame[\"image_path\"])"
   ]
  },
  {
   "cell_type": "markdown",
   "metadata": {},
   "source": [
    "## Dataset content"
   ]
  },
  {
   "cell_type": "markdown",
   "metadata": {},
   "source": [
    "Dataset elements are `Frame` objects. Each of them describe a frame of the dataset.\n",
    "`Frame` objects are `dict` objects with few more methods and properties."
   ]
  },
  {
   "cell_type": "code",
   "execution_count": 6,
   "metadata": {},
   "outputs": [
    {
     "data": {
      "text/plain": [
       "smartdoc15_ch1.smartdoc_loader_v2.Frame"
      ]
     },
     "execution_count": 6,
     "metadata": {},
     "output_type": "execute_result"
    }
   ],
   "source": [
    "d0 = d[0]\n",
    "type(d0)"
   ]
  },
  {
   "cell_type": "code",
   "execution_count": 7,
   "metadata": {},
   "outputs": [
    {
     "data": {
      "text/plain": [
       "{'_scale_factor': None,\n",
       " 'bg_id': 0,\n",
       " 'bg_name': 'background01',\n",
       " 'bl_x': 844.579,\n",
       " 'bl_y': 851.507,\n",
       " 'br_x': 1337.49,\n",
       " 'br_y': 750.1089999999999,\n",
       " 'frame_index': 181,\n",
       " 'image_path': 'background01/datasheet004/frame_0181.jpeg',\n",
       " 'image_path_absolute': '/data/competitions/2015-ICDAR-smartdoc/challenge1/99-computable-version-2017-test/smartdoc15-ch1_home/frames/background01/datasheet004/frame_0181.jpeg',\n",
       " 'model_height': 2970.0,\n",
       " 'model_id': 3,\n",
       " 'model_name': 'datasheet004',\n",
       " 'model_subid': 3,\n",
       " 'model_width': 2100.0,\n",
       " 'modeltype_id': 0,\n",
       " 'modeltype_name': 'datasheet',\n",
       " 'tl_x': 713.449,\n",
       " 'tl_y': 234.484,\n",
       " 'tr_x': 1141.9,\n",
       " 'tr_y': 180.408}"
      ]
     },
     "execution_count": 7,
     "metadata": {},
     "output_type": "execute_result"
    }
   ],
   "source": [
    "d0"
   ]
  },
  {
   "cell_type": "markdown",
   "metadata": {},
   "source": [
    "Frames contain everything one may want to know about a particular frame, and every value can be accessed like in a regular `dict` object."
   ]
  },
  {
   "cell_type": "code",
   "execution_count": 8,
   "metadata": {},
   "outputs": [
    {
     "data": {
      "text/plain": [
       "('background01', 'datasheet004', 181)"
      ]
     },
     "execution_count": 8,
     "metadata": {},
     "output_type": "execute_result"
    }
   ],
   "source": [
    "d0[\"bg_name\"], d0['model_name'], d0['frame_index']"
   ]
  },
  {
   "cell_type": "markdown",
   "metadata": {},
   "source": [
    "Here, `d0` represents the frame `181` of the capture for `datasheet004` in `background01`.\n",
    "\n",
    "Please note that `frame_index` values are indexed starting at `1`, as the codecs usually index them in such way. This is the only value which has this indexing, all other values (labels in particular) are indexed starting at `0`."
   ]
  },
  {
   "cell_type": "markdown",
   "metadata": {},
   "source": [
    "## Reading images\n",
    "Of course, the whole point of this structure is to facilitate the iteration over dataset images."
   ]
  },
  {
   "cell_type": "markdown",
   "metadata": {},
   "source": [
    "One can read the image associated to a frame using the `Frame.read_image()` method."
   ]
  },
  {
   "cell_type": "code",
   "execution_count": 9,
   "metadata": {},
   "outputs": [
    {
     "data": {
      "text/plain": [
       "(1080, 1920)"
      ]
     },
     "execution_count": 9,
     "metadata": {},
     "output_type": "execute_result"
    }
   ],
   "source": [
    "img0 = d0.read_image()\n",
    "img0.shape"
   ]
  },
  {
   "cell_type": "markdown",
   "metadata": {},
   "source": [
    "By default, images are loaded in grayscale format, unscaled."
   ]
  },
  {
   "cell_type": "markdown",
   "metadata": {},
   "source": [
    "You can ask for the color image if needed."
   ]
  },
  {
   "cell_type": "code",
   "execution_count": 10,
   "metadata": {},
   "outputs": [
    {
     "data": {
      "text/plain": [
       "(1080, 1920, 3)"
      ]
     },
     "execution_count": 10,
     "metadata": {},
     "output_type": "execute_result"
    }
   ],
   "source": [
    "img0_color = d0.read_image(color=True)\n",
    "img0_color.shape"
   ]
  },
  {
   "cell_type": "markdown",
   "metadata": {},
   "source": [
    "And you can also force the image to be scaled. This reduces the image in both dimensions by the same factor."
   ]
  },
  {
   "cell_type": "code",
   "execution_count": 11,
   "metadata": {},
   "outputs": [
    {
     "name": "stderr",
     "output_type": "stream",
     "text": [
      "/home/jchazalo/.virtualenvs/sd15ch1_dev/local/lib/python2.7/site-packages/skimage/transform/_warps.py:105: UserWarning: The default mode, 'constant', will be changed to 'reflect' in skimage 0.15.\n",
      "  warn(\"The default mode, 'constant', will be changed to 'reflect' in \"\n",
      "/home/jchazalo/.virtualenvs/sd15ch1_dev/local/lib/python2.7/site-packages/skimage/transform/_warps.py:110: UserWarning: Anti-aliasing will be enabled by default in skimage 0.15 to avoid aliasing artifacts when down-sampling images.\n",
      "  warn(\"Anti-aliasing will be enabled by default in skimage 0.15 to \"\n"
     ]
    },
    {
     "data": {
      "text/plain": [
       "(540, 960)"
      ]
     },
     "execution_count": 11,
     "metadata": {},
     "output_type": "execute_result"
    }
   ],
   "source": [
    "img0_reduced = d0.read_image(force_scale_factor=0.5)\n",
    "img0_reduced.shape"
   ]
  },
  {
   "cell_type": "markdown",
   "metadata": {},
   "source": [
    "## Easy-to-use segmentation for each frame\n",
    "You may need to access the segmentation target for a given frame without browsing the entire segmentation array by index. We offer two formats:\n",
    "- dict format with a textual indexing of each coordinate\n",
    "- a list format with coordinates is the same order as the `Dataset.segmentation_targets` array: \"tl_x\", \"tl_y\", \"bl_x\", \"bl_y\", \"br_x\", \"br_y\", \"tr_x\", \"tr_y\""
   ]
  },
  {
   "cell_type": "code",
   "execution_count": 12,
   "metadata": {},
   "outputs": [
    {
     "data": {
      "text/plain": [
       "{'bl_x': 844.579,\n",
       " 'bl_y': 851.507,\n",
       " 'br_x': 1337.49,\n",
       " 'br_y': 750.1089999999999,\n",
       " 'tl_x': 713.449,\n",
       " 'tl_y': 234.484,\n",
       " 'tr_x': 1141.9,\n",
       " 'tr_y': 180.408}"
      ]
     },
     "execution_count": 12,
     "metadata": {},
     "output_type": "execute_result"
    }
   ],
   "source": [
    "d0.segmentation_dict"
   ]
  },
  {
   "cell_type": "code",
   "execution_count": 13,
   "metadata": {},
   "outputs": [
    {
     "data": {
      "text/plain": [
       "[713.449,\n",
       " 234.484,\n",
       " 844.579,\n",
       " 851.507,\n",
       " 1337.49,\n",
       " 750.1089999999999,\n",
       " 1141.9,\n",
       " 180.408]"
      ]
     },
     "execution_count": 13,
     "metadata": {},
     "output_type": "execute_result"
    }
   ],
   "source": [
    "d0.segmentation_list"
   ]
  },
  {
   "cell_type": "markdown",
   "metadata": {},
   "source": [
    "## Scaled segmentation for frames\n",
    "You may need the scaled segmentation for a given frame, provided its scaling factor was defined during `Dataset` creation, and not forced with the parameter `force_scale_factor` of `Frame.read_image()`. We provide the scaled equivalents for the previous segmentation accessors."
   ]
  },
  {
   "cell_type": "code",
   "execution_count": 14,
   "metadata": {},
   "outputs": [
    {
     "data": {
      "text/plain": [
       "{'bl_x': 844.579,\n",
       " 'bl_y': 851.507,\n",
       " 'br_x': 1337.49,\n",
       " 'br_y': 750.1089999999999,\n",
       " 'tl_x': 713.449,\n",
       " 'tl_y': 234.484,\n",
       " 'tr_x': 1141.9,\n",
       " 'tr_y': 180.408}"
      ]
     },
     "execution_count": 14,
     "metadata": {},
     "output_type": "execute_result"
    }
   ],
   "source": [
    "d0.segmentation_dict_scaled"
   ]
  },
  {
   "cell_type": "code",
   "execution_count": 15,
   "metadata": {},
   "outputs": [
    {
     "data": {
      "text/plain": [
       "[713.449,\n",
       " 234.484,\n",
       " 844.579,\n",
       " 851.507,\n",
       " 1337.49,\n",
       " 750.1089999999999,\n",
       " 1141.9,\n",
       " 180.408]"
      ]
     },
     "execution_count": 15,
     "metadata": {},
     "output_type": "execute_result"
    }
   ],
   "source": [
    "d0.segmentation_list_scaled"
   ]
  },
  {
   "cell_type": "markdown",
   "metadata": {},
   "source": [
    "## Target values\n",
    "If you process frames in batch, you may want to access the target values for each possible task in a single line.\n",
    "The following methods enable you to do so, listing the expected values (unscaled in the case of the segmentation) for the segmentation and the classification tasks.\n",
    "\n",
    "The expected values are returned as a Numpy array for which the rows are sorted as in the `Dataset` object."
   ]
  },
  {
   "cell_type": "code",
   "execution_count": 16,
   "metadata": {},
   "outputs": [
    {
     "data": {
      "text/plain": [
       "array([ 3, 27, 21,  5, 10, 20, 24, 21, 26,  2])"
      ]
     },
     "execution_count": 16,
     "metadata": {},
     "output_type": "execute_result"
    }
   ],
   "source": [
    "d.model_classif_targets[:10]"
   ]
  },
  {
   "cell_type": "code",
   "execution_count": 17,
   "metadata": {},
   "outputs": [
    {
     "data": {
      "text/plain": [
       "array([0, 5, 4, 1, 2, 4, 4, 4, 5, 0])"
      ]
     },
     "execution_count": 17,
     "metadata": {},
     "output_type": "execute_result"
    }
   ],
   "source": [
    "d.modeltype_classif_targets[:10]"
   ]
  },
  {
   "cell_type": "code",
   "execution_count": 18,
   "metadata": {},
   "outputs": [
    {
     "data": {
      "text/plain": [
       "array([[ 713.449,  234.484,  844.579,  851.507, 1337.49 ,  750.109,\n",
       "        1141.9  ,  180.408],\n",
       "       [ 824.825,  299.55 ,  967.431,  716.278, 1356.08 ,  618.052,\n",
       "        1154.95 ,  231.329],\n",
       "       [ 847.211,  307.687, 1104.4  ,  718.781, 1441.27 ,  594.959,\n",
       "        1153.41 ,  234.478],\n",
       "       [1281.59 ,  224.198,  651.798,  268.267,  643.051,  689.852,\n",
       "        1353.73 ,  643.7  ],\n",
       "       [ 817.823,  303.746,  765.635,  717.812, 1177.38 ,  735.762,\n",
       "        1156.65 ,  319.191],\n",
       "       [ 637.07 ,  179.005,  543.07 ,  802.596, 1048.44 ,  867.4  ,\n",
       "        1055.05 ,  289.651],\n",
       "       [ 750.351,  865.451, 1470.5  ,  754.412, 1343.21 ,  333.88 ,\n",
       "         711.638,  423.068],\n",
       "       [ 989.385,  244.61 , 1092.06 ,  710.809, 1485.05 ,  656.634,\n",
       "        1330.85 ,  211.433],\n",
       "       [ 817.564,  210.388,  986.025,  794.638, 1296.8  ,  713.184,\n",
       "        1132.31 ,  214.224],\n",
       "       [ 788.263,  216.669,  864.158,  815.337, 1364.16 ,  749.601,\n",
       "        1214.21 ,  178.942]])"
      ]
     },
     "execution_count": 18,
     "metadata": {},
     "output_type": "execute_result"
    }
   ],
   "source": [
    "d.segmentation_targets[:10]"
   ]
  },
  {
   "cell_type": "markdown",
   "metadata": {},
   "source": [
    "For the segmentation task, the actual physical shape of the document objects is required to compare the returned results and the expected ones."
   ]
  },
  {
   "cell_type": "code",
   "execution_count": 19,
   "metadata": {},
   "outputs": [
    {
     "data": {
      "text/plain": [
       "array([[2100., 2970.],\n",
       "       [2100., 2970.],\n",
       "       [2100., 2970.],\n",
       "       [2100., 2970.],\n",
       "       [2100., 2970.],\n",
       "       [2100., 2970.],\n",
       "       [2100., 2970.],\n",
       "       [2100., 2970.],\n",
       "       [2100., 2970.],\n",
       "       [2100., 2970.]])"
      ]
     },
     "execution_count": 19,
     "metadata": {},
     "output_type": "execute_result"
    }
   ],
   "source": [
    "d.model_shapes[:10]"
   ]
  },
  {
   "cell_type": "markdown",
   "metadata": {},
   "source": [
    "For the sake of completeness, background labels can be obtained easily as well."
   ]
  },
  {
   "cell_type": "code",
   "execution_count": 20,
   "metadata": {},
   "outputs": [
    {
     "data": {
      "text/plain": [
       "array([0, 1, 2, 3, 1, 4, 3, 1, 2, 1])"
      ]
     },
     "execution_count": 20,
     "metadata": {},
     "output_type": "execute_result"
    }
   ],
   "source": [
    "d.background_labels[:10]"
   ]
  },
  {
   "cell_type": "markdown",
   "metadata": {},
   "source": [
    "## Listing label values\n",
    "Some properties may help you listing the possible values for `background_id`, `model_id` and `modeltype_id`."
   ]
  },
  {
   "cell_type": "code",
   "execution_count": 21,
   "metadata": {},
   "outputs": [
    {
     "data": {
      "text/plain": [
       "array([0, 1, 2, 3, 4])"
      ]
     },
     "execution_count": 21,
     "metadata": {},
     "output_type": "execute_result"
    }
   ],
   "source": [
    "d.unique_background_ids"
   ]
  },
  {
   "cell_type": "code",
   "execution_count": 22,
   "metadata": {},
   "outputs": [
    {
     "data": {
      "text/plain": [
       "array(['background01', 'background02', 'background03', 'background04',\n",
       "       'background05'], dtype=object)"
      ]
     },
     "execution_count": 22,
     "metadata": {},
     "output_type": "execute_result"
    }
   ],
   "source": [
    "d.unique_background_names"
   ]
  },
  {
   "cell_type": "code",
   "execution_count": 23,
   "metadata": {},
   "outputs": [
    {
     "data": {
      "text/plain": [
       "array([ 0,  1,  2,  3,  4,  5,  7,  8,  9, 10, 12, 13, 15, 16, 17, 18, 19,\n",
       "       20, 21, 23, 24, 25, 26, 27, 28, 29])"
      ]
     },
     "execution_count": 23,
     "metadata": {},
     "output_type": "execute_result"
    }
   ],
   "source": [
    "d.unique_model_ids"
   ]
  },
  {
   "cell_type": "code",
   "execution_count": 24,
   "metadata": {},
   "outputs": [
    {
     "data": {
      "text/plain": [
       "array(['datasheet001', 'datasheet002', 'datasheet003', 'datasheet004',\n",
       "       'datasheet005', 'letter001', 'letter003', 'letter004', 'letter005',\n",
       "       'magazine001', 'magazine003', 'magazine004', 'paper001',\n",
       "       'paper002', 'paper003', 'paper004', 'paper005', 'patent001',\n",
       "       'patent002', 'patent004', 'patent005', 'tax001', 'tax002',\n",
       "       'tax003', 'tax004', 'tax005'], dtype=object)"
      ]
     },
     "execution_count": 24,
     "metadata": {},
     "output_type": "execute_result"
    }
   ],
   "source": [
    "d.unique_model_names"
   ]
  },
  {
   "cell_type": "code",
   "execution_count": 25,
   "metadata": {},
   "outputs": [
    {
     "data": {
      "text/plain": [
       "array([0, 1, 2, 3, 4, 5])"
      ]
     },
     "execution_count": 25,
     "metadata": {},
     "output_type": "execute_result"
    }
   ],
   "source": [
    "d.unique_modeltype_ids"
   ]
  },
  {
   "cell_type": "code",
   "execution_count": 26,
   "metadata": {},
   "outputs": [
    {
     "data": {
      "text/plain": [
       "array(['datasheet', 'letter', 'magazine', 'paper', 'patent', 'tax'],\n",
       "      dtype=object)"
      ]
     },
     "execution_count": 26,
     "metadata": {},
     "output_type": "execute_result"
    }
   ],
   "source": [
    "d.unique_modeltype_names"
   ]
  },
  {
   "cell_type": "markdown",
   "metadata": {},
   "source": [
    "Finally, the underlying Pandas Dataframe is made available directly in case you need more flexibility."
   ]
  },
  {
   "cell_type": "code",
   "execution_count": 27,
   "metadata": {},
   "outputs": [
    {
     "data": {
      "text/html": [
       "<div>\n",
       "<style scoped>\n",
       "    .dataframe tbody tr th:only-of-type {\n",
       "        vertical-align: middle;\n",
       "    }\n",
       "\n",
       "    .dataframe tbody tr th {\n",
       "        vertical-align: top;\n",
       "    }\n",
       "\n",
       "    .dataframe thead th {\n",
       "        text-align: right;\n",
       "    }\n",
       "</style>\n",
       "<table border=\"1\" class=\"dataframe\">\n",
       "  <thead>\n",
       "    <tr style=\"text-align: right;\">\n",
       "      <th></th>\n",
       "      <th>bg_name</th>\n",
       "      <th>bg_id</th>\n",
       "      <th>model_name</th>\n",
       "      <th>model_id</th>\n",
       "      <th>modeltype_name</th>\n",
       "      <th>modeltype_id</th>\n",
       "      <th>model_subid</th>\n",
       "      <th>image_path</th>\n",
       "      <th>frame_index</th>\n",
       "      <th>model_width</th>\n",
       "      <th>model_height</th>\n",
       "      <th>tl_x</th>\n",
       "      <th>tl_y</th>\n",
       "      <th>bl_x</th>\n",
       "      <th>bl_y</th>\n",
       "      <th>br_x</th>\n",
       "      <th>br_y</th>\n",
       "      <th>tr_x</th>\n",
       "      <th>tr_y</th>\n",
       "    </tr>\n",
       "  </thead>\n",
       "  <tbody>\n",
       "    <tr>\n",
       "      <th>0</th>\n",
       "      <td>background01</td>\n",
       "      <td>0</td>\n",
       "      <td>datasheet004</td>\n",
       "      <td>3</td>\n",
       "      <td>datasheet</td>\n",
       "      <td>0</td>\n",
       "      <td>3</td>\n",
       "      <td>background01/datasheet004/frame_0181.jpeg</td>\n",
       "      <td>181</td>\n",
       "      <td>2100.0</td>\n",
       "      <td>2970.0</td>\n",
       "      <td>713.449</td>\n",
       "      <td>234.484</td>\n",
       "      <td>844.579</td>\n",
       "      <td>851.507</td>\n",
       "      <td>1337.490</td>\n",
       "      <td>750.109</td>\n",
       "      <td>1141.900</td>\n",
       "      <td>180.408</td>\n",
       "    </tr>\n",
       "    <tr>\n",
       "      <th>1</th>\n",
       "      <td>background02</td>\n",
       "      <td>1</td>\n",
       "      <td>tax003</td>\n",
       "      <td>27</td>\n",
       "      <td>tax</td>\n",
       "      <td>5</td>\n",
       "      <td>2</td>\n",
       "      <td>background02/tax003/frame_0128.jpeg</td>\n",
       "      <td>128</td>\n",
       "      <td>2100.0</td>\n",
       "      <td>2970.0</td>\n",
       "      <td>824.825</td>\n",
       "      <td>299.550</td>\n",
       "      <td>967.431</td>\n",
       "      <td>716.278</td>\n",
       "      <td>1356.080</td>\n",
       "      <td>618.052</td>\n",
       "      <td>1154.950</td>\n",
       "      <td>231.329</td>\n",
       "    </tr>\n",
       "    <tr>\n",
       "      <th>2</th>\n",
       "      <td>background03</td>\n",
       "      <td>2</td>\n",
       "      <td>patent002</td>\n",
       "      <td>21</td>\n",
       "      <td>patent</td>\n",
       "      <td>4</td>\n",
       "      <td>1</td>\n",
       "      <td>background03/patent002/frame_0163.jpeg</td>\n",
       "      <td>163</td>\n",
       "      <td>2100.0</td>\n",
       "      <td>2970.0</td>\n",
       "      <td>847.211</td>\n",
       "      <td>307.687</td>\n",
       "      <td>1104.400</td>\n",
       "      <td>718.781</td>\n",
       "      <td>1441.270</td>\n",
       "      <td>594.959</td>\n",
       "      <td>1153.410</td>\n",
       "      <td>234.478</td>\n",
       "    </tr>\n",
       "    <tr>\n",
       "      <th>3</th>\n",
       "      <td>background04</td>\n",
       "      <td>3</td>\n",
       "      <td>letter001</td>\n",
       "      <td>5</td>\n",
       "      <td>letter</td>\n",
       "      <td>1</td>\n",
       "      <td>0</td>\n",
       "      <td>background04/letter001/frame_0116.jpeg</td>\n",
       "      <td>116</td>\n",
       "      <td>2100.0</td>\n",
       "      <td>2970.0</td>\n",
       "      <td>1281.590</td>\n",
       "      <td>224.198</td>\n",
       "      <td>651.798</td>\n",
       "      <td>268.267</td>\n",
       "      <td>643.051</td>\n",
       "      <td>689.852</td>\n",
       "      <td>1353.730</td>\n",
       "      <td>643.700</td>\n",
       "    </tr>\n",
       "    <tr>\n",
       "      <th>4</th>\n",
       "      <td>background02</td>\n",
       "      <td>1</td>\n",
       "      <td>magazine001</td>\n",
       "      <td>10</td>\n",
       "      <td>magazine</td>\n",
       "      <td>2</td>\n",
       "      <td>0</td>\n",
       "      <td>background02/magazine001/frame_0045.jpeg</td>\n",
       "      <td>45</td>\n",
       "      <td>2100.0</td>\n",
       "      <td>2970.0</td>\n",
       "      <td>817.823</td>\n",
       "      <td>303.746</td>\n",
       "      <td>765.635</td>\n",
       "      <td>717.812</td>\n",
       "      <td>1177.380</td>\n",
       "      <td>735.762</td>\n",
       "      <td>1156.650</td>\n",
       "      <td>319.191</td>\n",
       "    </tr>\n",
       "    <tr>\n",
       "      <th>5</th>\n",
       "      <td>background05</td>\n",
       "      <td>4</td>\n",
       "      <td>patent001</td>\n",
       "      <td>20</td>\n",
       "      <td>patent</td>\n",
       "      <td>4</td>\n",
       "      <td>0</td>\n",
       "      <td>background05/patent001/frame_0062.jpeg</td>\n",
       "      <td>62</td>\n",
       "      <td>2100.0</td>\n",
       "      <td>2970.0</td>\n",
       "      <td>637.070</td>\n",
       "      <td>179.005</td>\n",
       "      <td>543.070</td>\n",
       "      <td>802.596</td>\n",
       "      <td>1048.440</td>\n",
       "      <td>867.400</td>\n",
       "      <td>1055.050</td>\n",
       "      <td>289.651</td>\n",
       "    </tr>\n",
       "    <tr>\n",
       "      <th>6</th>\n",
       "      <td>background04</td>\n",
       "      <td>3</td>\n",
       "      <td>patent005</td>\n",
       "      <td>24</td>\n",
       "      <td>patent</td>\n",
       "      <td>4</td>\n",
       "      <td>4</td>\n",
       "      <td>background04/patent005/frame_0048.jpeg</td>\n",
       "      <td>48</td>\n",
       "      <td>2100.0</td>\n",
       "      <td>2970.0</td>\n",
       "      <td>750.351</td>\n",
       "      <td>865.451</td>\n",
       "      <td>1470.500</td>\n",
       "      <td>754.412</td>\n",
       "      <td>1343.210</td>\n",
       "      <td>333.880</td>\n",
       "      <td>711.638</td>\n",
       "      <td>423.068</td>\n",
       "    </tr>\n",
       "    <tr>\n",
       "      <th>7</th>\n",
       "      <td>background02</td>\n",
       "      <td>1</td>\n",
       "      <td>patent002</td>\n",
       "      <td>21</td>\n",
       "      <td>patent</td>\n",
       "      <td>4</td>\n",
       "      <td>1</td>\n",
       "      <td>background02/patent002/frame_0106.jpeg</td>\n",
       "      <td>106</td>\n",
       "      <td>2100.0</td>\n",
       "      <td>2970.0</td>\n",
       "      <td>989.385</td>\n",
       "      <td>244.610</td>\n",
       "      <td>1092.060</td>\n",
       "      <td>710.809</td>\n",
       "      <td>1485.050</td>\n",
       "      <td>656.634</td>\n",
       "      <td>1330.850</td>\n",
       "      <td>211.433</td>\n",
       "    </tr>\n",
       "    <tr>\n",
       "      <th>8</th>\n",
       "      <td>background03</td>\n",
       "      <td>2</td>\n",
       "      <td>tax002</td>\n",
       "      <td>26</td>\n",
       "      <td>tax</td>\n",
       "      <td>5</td>\n",
       "      <td>1</td>\n",
       "      <td>background03/tax002/frame_0158.jpeg</td>\n",
       "      <td>158</td>\n",
       "      <td>2100.0</td>\n",
       "      <td>2970.0</td>\n",
       "      <td>817.564</td>\n",
       "      <td>210.388</td>\n",
       "      <td>986.025</td>\n",
       "      <td>794.638</td>\n",
       "      <td>1296.800</td>\n",
       "      <td>713.184</td>\n",
       "      <td>1132.310</td>\n",
       "      <td>214.224</td>\n",
       "    </tr>\n",
       "    <tr>\n",
       "      <th>9</th>\n",
       "      <td>background02</td>\n",
       "      <td>1</td>\n",
       "      <td>datasheet003</td>\n",
       "      <td>2</td>\n",
       "      <td>datasheet</td>\n",
       "      <td>0</td>\n",
       "      <td>2</td>\n",
       "      <td>background02/datasheet003/frame_0129.jpeg</td>\n",
       "      <td>129</td>\n",
       "      <td>2100.0</td>\n",
       "      <td>2970.0</td>\n",
       "      <td>788.263</td>\n",
       "      <td>216.669</td>\n",
       "      <td>864.158</td>\n",
       "      <td>815.337</td>\n",
       "      <td>1364.160</td>\n",
       "      <td>749.601</td>\n",
       "      <td>1214.210</td>\n",
       "      <td>178.942</td>\n",
       "    </tr>\n",
       "  </tbody>\n",
       "</table>\n",
       "</div>"
      ],
      "text/plain": [
       "        bg_name  bg_id    model_name  model_id modeltype_name  modeltype_id  \\\n",
       "0  background01      0  datasheet004         3      datasheet             0   \n",
       "1  background02      1        tax003        27            tax             5   \n",
       "2  background03      2     patent002        21         patent             4   \n",
       "3  background04      3     letter001         5         letter             1   \n",
       "4  background02      1   magazine001        10       magazine             2   \n",
       "5  background05      4     patent001        20         patent             4   \n",
       "6  background04      3     patent005        24         patent             4   \n",
       "7  background02      1     patent002        21         patent             4   \n",
       "8  background03      2        tax002        26            tax             5   \n",
       "9  background02      1  datasheet003         2      datasheet             0   \n",
       "\n",
       "   model_subid                                 image_path  frame_index  \\\n",
       "0            3  background01/datasheet004/frame_0181.jpeg          181   \n",
       "1            2        background02/tax003/frame_0128.jpeg          128   \n",
       "2            1     background03/patent002/frame_0163.jpeg          163   \n",
       "3            0     background04/letter001/frame_0116.jpeg          116   \n",
       "4            0   background02/magazine001/frame_0045.jpeg           45   \n",
       "5            0     background05/patent001/frame_0062.jpeg           62   \n",
       "6            4     background04/patent005/frame_0048.jpeg           48   \n",
       "7            1     background02/patent002/frame_0106.jpeg          106   \n",
       "8            1        background03/tax002/frame_0158.jpeg          158   \n",
       "9            2  background02/datasheet003/frame_0129.jpeg          129   \n",
       "\n",
       "   model_width  model_height      tl_x     tl_y      bl_x     bl_y      br_x  \\\n",
       "0       2100.0        2970.0   713.449  234.484   844.579  851.507  1337.490   \n",
       "1       2100.0        2970.0   824.825  299.550   967.431  716.278  1356.080   \n",
       "2       2100.0        2970.0   847.211  307.687  1104.400  718.781  1441.270   \n",
       "3       2100.0        2970.0  1281.590  224.198   651.798  268.267   643.051   \n",
       "4       2100.0        2970.0   817.823  303.746   765.635  717.812  1177.380   \n",
       "5       2100.0        2970.0   637.070  179.005   543.070  802.596  1048.440   \n",
       "6       2100.0        2970.0   750.351  865.451  1470.500  754.412  1343.210   \n",
       "7       2100.0        2970.0   989.385  244.610  1092.060  710.809  1485.050   \n",
       "8       2100.0        2970.0   817.564  210.388   986.025  794.638  1296.800   \n",
       "9       2100.0        2970.0   788.263  216.669   864.158  815.337  1364.160   \n",
       "\n",
       "      br_y      tr_x     tr_y  \n",
       "0  750.109  1141.900  180.408  \n",
       "1  618.052  1154.950  231.329  \n",
       "2  594.959  1153.410  234.478  \n",
       "3  689.852  1353.730  643.700  \n",
       "4  735.762  1156.650  319.191  \n",
       "5  867.400  1055.050  289.651  \n",
       "6  333.880   711.638  423.068  \n",
       "7  656.634  1330.850  211.433  \n",
       "8  713.184  1132.310  214.224  \n",
       "9  749.601  1214.210  178.942  "
      ]
     },
     "execution_count": 27,
     "metadata": {},
     "output_type": "execute_result"
    }
   ],
   "source": [
    "d.raw_dataframe[:10]"
   ]
  },
  {
   "cell_type": "code",
   "execution_count": null,
   "metadata": {},
   "outputs": [],
   "source": []
  }
 ],
 "metadata": {
  "kernelspec": {
   "display_name": "Python 3",
   "language": "python",
   "name": "python3"
  },
  "language_info": {
   "codemirror_mode": {
    "name": "ipython",
    "version": 2
   },
   "file_extension": ".py",
   "mimetype": "text/x-python",
   "name": "python",
   "nbconvert_exporter": "python",
   "pygments_lexer": "ipython2",
   "version": "2.7.12"
  }
 },
 "nbformat": 4,
 "nbformat_minor": 2
}
