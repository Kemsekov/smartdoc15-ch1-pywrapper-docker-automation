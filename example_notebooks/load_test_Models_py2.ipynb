{
 "cells": [
  {
   "cell_type": "markdown",
   "metadata": {},
   "source": [
    "**This is the same notebook as `load_test_Models_py3.ipynb`, but tested with a Python 2 kernel for compatibility check.**"
   ]
  },
  {
   "cell_type": "markdown",
   "metadata": {},
   "source": [
    "# Plain examples and tests for the Models and Model classes\n",
    "If you are looking for a quick example on how to use the `smartdoc15_ch1` package, we recommend you start by looking at the tutorials instead."
   ]
  },
  {
   "cell_type": "markdown",
   "metadata": {},
   "source": [
    "## Import and creation of the `Models` object"
   ]
  },
  {
   "cell_type": "code",
   "execution_count": 1,
   "metadata": {},
   "outputs": [],
   "source": [
    "from smartdoc15_ch1 import Models"
   ]
  },
  {
   "cell_type": "code",
   "execution_count": 2,
   "metadata": {},
   "outputs": [],
   "source": [
    "m = Models(data_home=\"/data/competitions/2015-ICDAR-smartdoc/challenge1/99-computable-version-2017-test\",\n",
    "           download_if_missing=False)"
   ]
  },
  {
   "cell_type": "code",
   "execution_count": 3,
   "metadata": {},
   "outputs": [
    {
     "data": {
      "text/plain": [
       "smartdoc15_ch1.smartdoc_loader_v2.Models"
      ]
     },
     "execution_count": 3,
     "metadata": {},
     "output_type": "execute_result"
    }
   ],
   "source": [
    "type(m)"
   ]
  },
  {
   "cell_type": "markdown",
   "metadata": {},
   "source": [
    "Like `Dataset`, the `Models` class is an enhanced `list` of all the `Model` relevant objects."
   ]
  },
  {
   "cell_type": "markdown",
   "metadata": {},
   "source": [
    "You can select which variant of model images you want to use when creating the `Models` object."
   ]
  },
  {
   "cell_type": "code",
   "execution_count": 4,
   "metadata": {},
   "outputs": [],
   "source": [
    "m = Models(data_home=\"/data/competitions/2015-ICDAR-smartdoc/challenge1/99-computable-version-2017-test\",\n",
    "           download_if_missing=False,\n",
    "           variant=Models.VARIANT_04_CORRECTED)"
   ]
  },
  {
   "cell_type": "markdown",
   "metadata": {},
   "source": [
    "Legitimate variants codes are available as:"
   ]
  },
  {
   "cell_type": "code",
   "execution_count": 5,
   "metadata": {},
   "outputs": [
    {
     "data": {
      "text/plain": [
       "('01-original',\n",
       " '02-edited',\n",
       " '03-captured-nexus',\n",
       " '04-corrected-nexus',\n",
       " '05-corrected-nexus-scaled33')"
      ]
     },
     "execution_count": 5,
     "metadata": {},
     "output_type": "execute_result"
    }
   ],
   "source": [
    "(Models.VARIANT_01_ORIGINAL,\n",
    "Models.VARIANT_02_EDITED,\n",
    "Models.VARIANT_03_CAPTURED,\n",
    "Models.VARIANT_04_CORRECTED,\n",
    "Models.VARIANT_05_SCALED33,)"
   ]
  },
  {
   "cell_type": "markdown",
   "metadata": {},
   "source": [
    "## Content of `Models`\n",
    "Like `list` objects, a `Models` object can be accessed using indexes, iterated, etc."
   ]
  },
  {
   "cell_type": "code",
   "execution_count": 6,
   "metadata": {},
   "outputs": [
    {
     "data": {
      "text/plain": [
       "1"
      ]
     },
     "execution_count": 6,
     "metadata": {},
     "output_type": "execute_result"
    }
   ],
   "source": [
    "len(m)"
   ]
  },
  {
   "cell_type": "markdown",
   "metadata": {},
   "source": [
    "Note that here, for testing purposes, we use a reduced version of the models set."
   ]
  },
  {
   "cell_type": "markdown",
   "metadata": {},
   "source": [
    "## `Model` objects\n",
    "Note that `Models` (plural) refers to the set of models, and `Model` refers the a single element."
   ]
  },
  {
   "cell_type": "code",
   "execution_count": 7,
   "metadata": {},
   "outputs": [
    {
     "data": {
      "text/plain": [
       "{'image_path': '04-corrected-nexus/datasheet004.png',\n",
       " 'image_path_absolute': '/data/competitions/2015-ICDAR-smartdoc/challenge1/99-computable-version-2017-test/smartdoc15-ch1_home/models/04-corrected-nexus/datasheet004.png',\n",
       " 'model_cat': '04-corrected-nexus',\n",
       " 'model_id': 3,\n",
       " 'model_name': 'datasheet004',\n",
       " 'model_subid': 3,\n",
       " 'modeltype_id': 0,\n",
       " 'modeltype_name': 'datasheet'}"
      ]
     },
     "execution_count": 7,
     "metadata": {},
     "output_type": "execute_result"
    }
   ],
   "source": [
    "m0 = m[0]\n",
    "m0"
   ]
  },
  {
   "cell_type": "code",
   "execution_count": 8,
   "metadata": {},
   "outputs": [
    {
     "data": {
      "text/plain": [
       "smartdoc15_ch1.smartdoc_loader_v2.Model"
      ]
     },
     "execution_count": 8,
     "metadata": {},
     "output_type": "execute_result"
    }
   ],
   "source": [
    "type(m0)"
   ]
  },
  {
   "cell_type": "markdown",
   "metadata": {},
   "source": [
    "A `Model` object contains everything you could need to know about a model image, accessible in a `dict`-based fashion."
   ]
  },
  {
   "cell_type": "code",
   "execution_count": 9,
   "metadata": {},
   "outputs": [
    {
     "data": {
      "text/plain": [
       "('04-corrected-nexus/datasheet004.png',\n",
       " '04-corrected-nexus',\n",
       " 'datasheet004',\n",
       " 3)"
      ]
     },
     "execution_count": 9,
     "metadata": {},
     "output_type": "execute_result"
    }
   ],
   "source": [
    "m0[\"image_path\"], m0[\"model_cat\"], m0[\"model_name\"], m0[\"model_id\"]"
   ]
  },
  {
   "cell_type": "markdown",
   "metadata": {},
   "source": [
    "## Reading model images\n",
    "Like `Frame` objects, you can obtain the associated image of a model using a `read_image()` method."
   ]
  },
  {
   "cell_type": "code",
   "execution_count": 10,
   "metadata": {},
   "outputs": [
    {
     "name": "stdout",
     "output_type": "stream",
     "text": [
      "Loading image '/data/competitions/2015-ICDAR-smartdoc/challenge1/99-computable-version-2017-test/smartdoc15-ch1_home/models/04-corrected-nexus/datasheet004.png'.\n"
     ]
    },
    {
     "data": {
      "text/plain": [
       "(2300, 1626)"
      ]
     },
     "execution_count": 10,
     "metadata": {},
     "output_type": "execute_result"
    }
   ],
   "source": [
    "m0_image = m0.read_image()\n",
    "m0_image.shape"
   ]
  },
  {
   "cell_type": "markdown",
   "metadata": {},
   "source": [
    "By default, the image is loaded in grayscale at its original size, but one can ask for color and/or resized version."
   ]
  },
  {
   "cell_type": "code",
   "execution_count": 11,
   "metadata": {},
   "outputs": [
    {
     "name": "stdout",
     "output_type": "stream",
     "text": [
      "Loading image '/data/competitions/2015-ICDAR-smartdoc/challenge1/99-computable-version-2017-test/smartdoc15-ch1_home/models/04-corrected-nexus/datasheet004.png'.\n"
     ]
    },
    {
     "name": "stderr",
     "output_type": "stream",
     "text": [
      "/home/jchazalo/.virtualenvs/sd15ch1_dev/local/lib/python2.7/site-packages/skimage/transform/_warps.py:105: UserWarning: The default mode, 'constant', will be changed to 'reflect' in skimage 0.15.\n",
      "  warn(\"The default mode, 'constant', will be changed to 'reflect' in \"\n",
      "/home/jchazalo/.virtualenvs/sd15ch1_dev/local/lib/python2.7/site-packages/skimage/transform/_warps.py:110: UserWarning: Anti-aliasing will be enabled by default in skimage 0.15 to avoid aliasing artifacts when down-sampling images.\n",
      "  warn(\"Anti-aliasing will be enabled by default in skimage 0.15 to \"\n"
     ]
    },
    {
     "data": {
      "text/plain": [
       "(1150, 813, 3)"
      ]
     },
     "execution_count": 11,
     "metadata": {},
     "output_type": "execute_result"
    }
   ],
   "source": [
    "m0_image_color_resize = m0.read_image(color=True, scale_factor=0.5)\n",
    "m0_image_color_resize.shape"
   ]
  },
  {
   "cell_type": "markdown",
   "metadata": {},
   "source": [
    "## Other methods and properties of `Models`\n",
    "We provide other methods and properties for the `Models` class to facilitate the access to several pieces of information."
   ]
  },
  {
   "cell_type": "markdown",
   "metadata": {},
   "source": [
    "You can retrieve the list of model ids and model type ids in one line:"
   ]
  },
  {
   "cell_type": "code",
   "execution_count": 12,
   "metadata": {},
   "outputs": [
    {
     "data": {
      "text/plain": [
       "array([3])"
      ]
     },
     "execution_count": 12,
     "metadata": {},
     "output_type": "execute_result"
    }
   ],
   "source": [
    "m.model_ids"
   ]
  },
  {
   "cell_type": "code",
   "execution_count": 13,
   "metadata": {},
   "outputs": [
    {
     "data": {
      "text/plain": [
       "array([0])"
      ]
     },
     "execution_count": 13,
     "metadata": {},
     "output_type": "execute_result"
    }
   ],
   "source": [
    "m.modeltype_ids"
   ]
  },
  {
   "cell_type": "markdown",
   "metadata": {},
   "source": [
    "You can also list all the possible values for the `model_id` and the `modeltype_id` fields.\n",
    "\n",
    "*(Note that here this examples uses a reduced version of the model set.)*"
   ]
  },
  {
   "cell_type": "code",
   "execution_count": 14,
   "metadata": {},
   "outputs": [
    {
     "data": {
      "text/plain": [
       "array([3])"
      ]
     },
     "execution_count": 14,
     "metadata": {},
     "output_type": "execute_result"
    }
   ],
   "source": [
    "m.unique_model_ids"
   ]
  },
  {
   "cell_type": "code",
   "execution_count": 15,
   "metadata": {},
   "outputs": [
    {
     "data": {
      "text/plain": [
       "array([0])"
      ]
     },
     "execution_count": 15,
     "metadata": {},
     "output_type": "execute_result"
    }
   ],
   "source": [
    "m.unique_modeltype_ids"
   ]
  },
  {
   "cell_type": "markdown",
   "metadata": {},
   "source": [
    "Finally, the underlying Pandas Dataframe is made available directly in case you need more flexibility."
   ]
  },
  {
   "cell_type": "code",
   "execution_count": 16,
   "metadata": {},
   "outputs": [
    {
     "data": {
      "text/html": [
       "<div>\n",
       "<style scoped>\n",
       "    .dataframe tbody tr th:only-of-type {\n",
       "        vertical-align: middle;\n",
       "    }\n",
       "\n",
       "    .dataframe tbody tr th {\n",
       "        vertical-align: top;\n",
       "    }\n",
       "\n",
       "    .dataframe thead th {\n",
       "        text-align: right;\n",
       "    }\n",
       "</style>\n",
       "<table border=\"1\" class=\"dataframe\">\n",
       "  <thead>\n",
       "    <tr style=\"text-align: right;\">\n",
       "      <th></th>\n",
       "      <th>model_cat</th>\n",
       "      <th>model_name</th>\n",
       "      <th>model_id</th>\n",
       "      <th>modeltype_name</th>\n",
       "      <th>modeltype_id</th>\n",
       "      <th>model_subid</th>\n",
       "      <th>image_path</th>\n",
       "    </tr>\n",
       "  </thead>\n",
       "  <tbody>\n",
       "    <tr>\n",
       "      <th>3</th>\n",
       "      <td>04-corrected-nexus</td>\n",
       "      <td>datasheet004</td>\n",
       "      <td>3</td>\n",
       "      <td>datasheet</td>\n",
       "      <td>0</td>\n",
       "      <td>3</td>\n",
       "      <td>04-corrected-nexus/datasheet004.png</td>\n",
       "    </tr>\n",
       "  </tbody>\n",
       "</table>\n",
       "</div>"
      ],
      "text/plain": [
       "            model_cat    model_name  model_id modeltype_name  modeltype_id  \\\n",
       "3  04-corrected-nexus  datasheet004         3      datasheet             0   \n",
       "\n",
       "   model_subid                           image_path  \n",
       "3            3  04-corrected-nexus/datasheet004.png  "
      ]
     },
     "execution_count": 16,
     "metadata": {},
     "output_type": "execute_result"
    }
   ],
   "source": [
    "m.raw_dataframe"
   ]
  },
  {
   "cell_type": "code",
   "execution_count": null,
   "metadata": {},
   "outputs": [],
   "source": []
  }
 ],
 "metadata": {
  "kernelspec": {
   "display_name": "Python 2",
   "language": "python",
   "name": "python2"
  },
  "language_info": {
   "codemirror_mode": {
    "name": "ipython",
    "version": 2
   },
   "file_extension": ".py",
   "mimetype": "text/x-python",
   "name": "python",
   "nbconvert_exporter": "python",
   "pygments_lexer": "ipython2",
   "version": "2.7.12"
  }
 },
 "nbformat": 4,
 "nbformat_minor": 2
}
